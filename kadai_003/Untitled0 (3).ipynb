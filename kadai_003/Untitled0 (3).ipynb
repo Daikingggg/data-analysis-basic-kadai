{
  "nbformat": 4,
  "nbformat_minor": 0,
  "metadata": {
    "colab": {
      "provenance": [],
      "gpuType": "T4"
    },
    "kernelspec": {
      "name": "python3",
      "display_name": "Python 3"
    },
    "language_info": {
      "name": "python"
    },
    "accelerator": "GPU"
  },
  "cells": [
    {
      "cell_type": "code",
      "source": [
        "import numpy as np\n",
        "A=np.array([[0,1],[2,3],[4,5]])\n",
        "B=np.array([[0,1,2,3],[4,5,6,7]])\n",
        "\n",
        "result = np.dot(A,B)\n",
        "max_value = np.max(result)\n",
        "\n",
        "print(result)\n",
        "print(max_value)\n"
      ],
      "metadata": {
        "colab": {
          "base_uri": "https://localhost:8080/"
        },
        "id": "lIZHojnKD9LR",
        "outputId": "518a1eb1-ff69-4427-f732-c9a8d8e7850a"
      },
      "execution_count": 21,
      "outputs": [
        {
          "output_type": "stream",
          "name": "stdout",
          "text": [
            "[[ 4  5  6  7]\n",
            " [12 17 22 27]\n",
            " [20 29 38 47]]\n",
            "47\n"
          ]
        }
      ]
    }
  ]
}