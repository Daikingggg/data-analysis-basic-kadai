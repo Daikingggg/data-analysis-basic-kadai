{
  "nbformat": 4,
  "nbformat_minor": 0,
  "metadata": {
    "colab": {
      "provenance": [],
      "gpuType": "T4"
    },
    "kernelspec": {
      "name": "python3",
      "display_name": "Python 3"
    },
    "language_info": {
      "name": "python"
    },
    "accelerator": "GPU"
  },
  "cells": [
    {
      "cell_type": "code",
      "source": [
        "import numpy as np\n",
        "multi_array = np.array([[1,2,3],[4,5,6],[7,8,9]])\n",
        "A=np.array([1,2,3])\n",
        "B=np.array([4,5,6])\n",
        "C=np.array([7,8,9])\n",
        "\n",
        "result = A*B*C\n",
        "max_value = np.max(result)\n",
        "\n",
        "print(result)\n",
        "print(max_value)\n"
      ],
      "metadata": {
        "colab": {
          "base_uri": "https://localhost:8080/"
        },
        "id": "lIZHojnKD9LR",
        "outputId": "4331a1cc-0038-4ebe-a29a-84124fba08d7"
      },
      "execution_count": 13,
      "outputs": [
        {
          "output_type": "stream",
          "name": "stdout",
          "text": [
            "[ 28  80 162]\n",
            "162\n"
          ]
        }
      ]
    }
  ]
}