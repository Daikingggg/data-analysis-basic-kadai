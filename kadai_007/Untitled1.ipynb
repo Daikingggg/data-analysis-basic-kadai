{
  "nbformat": 4,
  "nbformat_minor": 0,
  "metadata": {
    "colab": {
      "provenance": []
    },
    "kernelspec": {
      "name": "python3",
      "display_name": "Python 3"
    },
    "language_info": {
      "name": "python"
    }
  },
  "cells": [
    {
      "cell_type": "code",
      "source": [
        "import pandas as pd\n",
        "import matplotlib.pyplot as plt\n",
        "\n",
        "df = pd.read_csv(\"sample_pandas_6.csv\")\n",
        "category_df = pd.read_csv(\"category.csv\")\n",
        "\n",
        "\n",
        "df = pd.merge(df, category_df[['商品番号', 'カテゴリー']], how='inner', on='商品番号')\n",
        "\n",
        "\n",
        "category_counts = df['カテゴリー'].value_counts()\n",
        "category_counts.plot(kind='bar')\n",
        "plt.show()\n",
        "\n",
        "\n",
        "order_stats = df.groupby('商品番号')['注文数'].describe()\n",
        "print(order_stats)\n"
      ],
      "metadata": {
        "id": "-nPcSG-dtId6",
        "outputId": "3b3e885f-fec7-48d8-fda2-8bf857ab9c15",
        "colab": {
          "base_uri": "https://localhost:8080/",
          "height": 1000
        }
      },
      "execution_count": 15,
      "outputs": [
        {
          "output_type": "stream",
          "name": "stderr",
          "text": [
            "/usr/local/lib/python3.10/dist-packages/IPython/core/pylabtools.py:151: UserWarning: Glyph 24321 (\\N{CJK UNIFIED IDEOGRAPH-5F01}) missing from current font.\n",
            "  fig.canvas.print_figure(bytes_io, **kw)\n",
            "/usr/local/lib/python3.10/dist-packages/IPython/core/pylabtools.py:151: UserWarning: Glyph 24403 (\\N{CJK UNIFIED IDEOGRAPH-5F53}) missing from current font.\n",
            "  fig.canvas.print_figure(bytes_io, **kw)\n",
            "/usr/local/lib/python3.10/dist-packages/IPython/core/pylabtools.py:151: UserWarning: Glyph 33747 (\\N{CJK UNIFIED IDEOGRAPH-83D3}) missing from current font.\n",
            "  fig.canvas.print_figure(bytes_io, **kw)\n",
            "/usr/local/lib/python3.10/dist-packages/IPython/core/pylabtools.py:151: UserWarning: Glyph 23376 (\\N{CJK UNIFIED IDEOGRAPH-5B50}) missing from current font.\n",
            "  fig.canvas.print_figure(bytes_io, **kw)\n",
            "/usr/local/lib/python3.10/dist-packages/IPython/core/pylabtools.py:151: UserWarning: Glyph 39006 (\\N{CJK UNIFIED IDEOGRAPH-985E}) missing from current font.\n",
            "  fig.canvas.print_figure(bytes_io, **kw)\n",
            "/usr/local/lib/python3.10/dist-packages/IPython/core/pylabtools.py:151: UserWarning: Glyph 39154 (\\N{CJK UNIFIED IDEOGRAPH-98F2}) missing from current font.\n",
            "  fig.canvas.print_figure(bytes_io, **kw)\n",
            "/usr/local/lib/python3.10/dist-packages/IPython/core/pylabtools.py:151: UserWarning: Glyph 26009 (\\N{CJK UNIFIED IDEOGRAPH-6599}) missing from current font.\n",
            "  fig.canvas.print_figure(bytes_io, **kw)\n",
            "/usr/local/lib/python3.10/dist-packages/IPython/core/pylabtools.py:151: UserWarning: Glyph 27700 (\\N{CJK UNIFIED IDEOGRAPH-6C34}) missing from current font.\n",
            "  fig.canvas.print_figure(bytes_io, **kw)\n",
            "/usr/local/lib/python3.10/dist-packages/IPython/core/pylabtools.py:151: UserWarning: Glyph 12487 (\\N{KATAKANA LETTER DE}) missing from current font.\n",
            "  fig.canvas.print_figure(bytes_io, **kw)\n",
            "/usr/local/lib/python3.10/dist-packages/IPython/core/pylabtools.py:151: UserWarning: Glyph 12470 (\\N{KATAKANA LETTER ZA}) missing from current font.\n",
            "  fig.canvas.print_figure(bytes_io, **kw)\n",
            "/usr/local/lib/python3.10/dist-packages/IPython/core/pylabtools.py:151: UserWarning: Glyph 12540 (\\N{KATAKANA-HIRAGANA PROLONGED SOUND MARK}) missing from current font.\n",
            "  fig.canvas.print_figure(bytes_io, **kw)\n",
            "/usr/local/lib/python3.10/dist-packages/IPython/core/pylabtools.py:151: UserWarning: Glyph 12488 (\\N{KATAKANA LETTER TO}) missing from current font.\n",
            "  fig.canvas.print_figure(bytes_io, **kw)\n",
            "/usr/local/lib/python3.10/dist-packages/IPython/core/pylabtools.py:151: UserWarning: Glyph 38609 (\\N{CJK UNIFIED IDEOGRAPH-96D1}) missing from current font.\n",
            "  fig.canvas.print_figure(bytes_io, **kw)\n",
            "/usr/local/lib/python3.10/dist-packages/IPython/core/pylabtools.py:151: UserWarning: Glyph 36008 (\\N{CJK UNIFIED IDEOGRAPH-8CA8}) missing from current font.\n",
            "  fig.canvas.print_figure(bytes_io, **kw)\n",
            "/usr/local/lib/python3.10/dist-packages/IPython/core/pylabtools.py:151: UserWarning: Glyph 22259 (\\N{CJK UNIFIED IDEOGRAPH-56F3}) missing from current font.\n",
            "  fig.canvas.print_figure(bytes_io, **kw)\n",
            "/usr/local/lib/python3.10/dist-packages/IPython/core/pylabtools.py:151: UserWarning: Glyph 26360 (\\N{CJK UNIFIED IDEOGRAPH-66F8}) missing from current font.\n",
            "  fig.canvas.print_figure(bytes_io, **kw)\n",
            "/usr/local/lib/python3.10/dist-packages/IPython/core/pylabtools.py:151: UserWarning: Glyph 12539 (\\N{KATAKANA MIDDLE DOT}) missing from current font.\n",
            "  fig.canvas.print_figure(bytes_io, **kw)\n",
            "/usr/local/lib/python3.10/dist-packages/IPython/core/pylabtools.py:151: UserWarning: Glyph 26032 (\\N{CJK UNIFIED IDEOGRAPH-65B0}) missing from current font.\n",
            "  fig.canvas.print_figure(bytes_io, **kw)\n",
            "/usr/local/lib/python3.10/dist-packages/IPython/core/pylabtools.py:151: UserWarning: Glyph 32862 (\\N{CJK UNIFIED IDEOGRAPH-805E}) missing from current font.\n",
            "  fig.canvas.print_figure(bytes_io, **kw)\n",
            "/usr/local/lib/python3.10/dist-packages/IPython/core/pylabtools.py:151: UserWarning: Glyph 12459 (\\N{KATAKANA LETTER KA}) missing from current font.\n",
            "  fig.canvas.print_figure(bytes_io, **kw)\n",
            "/usr/local/lib/python3.10/dist-packages/IPython/core/pylabtools.py:151: UserWarning: Glyph 12486 (\\N{KATAKANA LETTER TE}) missing from current font.\n",
            "  fig.canvas.print_figure(bytes_io, **kw)\n",
            "/usr/local/lib/python3.10/dist-packages/IPython/core/pylabtools.py:151: UserWarning: Glyph 12468 (\\N{KATAKANA LETTER GO}) missing from current font.\n",
            "  fig.canvas.print_figure(bytes_io, **kw)\n",
            "/usr/local/lib/python3.10/dist-packages/IPython/core/pylabtools.py:151: UserWarning: Glyph 12522 (\\N{KATAKANA LETTER RI}) missing from current font.\n",
            "  fig.canvas.print_figure(bytes_io, **kw)\n"
          ]
        },
        {
          "output_type": "display_data",
          "data": {
            "text/plain": [
              "<Figure size 640x480 with 1 Axes>"
            ],
            "image/png": "[encoded data removed]"
          },
          "metadata": {}
        },
        {
          "output_type": "stream",
          "name": "stdout",
          "text": [
            "          count       mean        std  min   25%   50%   75%   max\n",
            "商品番号                                                              \n",
            "1QJFO8QY   32.0  35.250000  18.461818  0.0  24.0  36.0  49.5  60.0\n",
            "2HSTCDWM   20.0  29.400000  21.137146  0.0  12.0  27.0  48.0  60.0\n",
            "48XMJXKO   10.0  21.600000  13.326665  0.0  13.5  21.0  30.0  42.0\n",
            "8T7D5DQA   21.0  25.142857  18.260027  0.0  12.0  36.0  42.0  54.0\n",
            "MESUDVWQ   17.0  43.764706  18.219253  0.0  42.0  48.0  54.0  60.0\n",
            "QRMOGNUU   27.0  33.111111  16.588535  6.0  21.0  36.0  48.0  60.0\n",
            "S6RE8W6X   20.0  33.300000  21.631118  0.0  12.0  39.0  54.0  60.0\n",
            "X0ZE2ZMY   14.0  21.857143  21.901377  0.0   1.5  15.0  39.0  60.0\n",
            "YY4HAAZR   17.0  31.764706  18.095336  0.0  18.0  30.0  42.0  60.0\n",
            "Z4WOOIYV   22.0  26.727273  19.218498  0.0  12.0  24.0  42.0  60.0\n"
          ]
        }
      ]
    }
  ]
}